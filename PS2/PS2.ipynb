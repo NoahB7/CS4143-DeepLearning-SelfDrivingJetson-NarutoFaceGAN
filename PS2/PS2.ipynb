{
 "cells": [
  {
   "cell_type": "markdown",
   "metadata": {},
   "source": [
    "# Libraries and Imports"
   ]
  },
  {
   "cell_type": "code",
   "execution_count": 1,
   "metadata": {},
   "outputs": [],
   "source": [
    "from tensorflow.keras.models import *\n",
    "from tensorflow.keras.layers import *\n",
    "from tensorflow.keras.metrics import *\n",
    "from tensorflow.keras import Input\n",
    "from tensorflow.keras import Sequential\n",
    "from sklearn.preprocessing import MinMaxScaler\n",
    "from sklearn.preprocessing import OneHotEncoder\n",
    "from sklearn.model_selection import train_test_split\n",
    "import numpy as np\n",
    "import pandas as pd\n",
    "import cv2\n",
    "import matplotlib.pyplot as plt\n",
    "import matplotlib.image as mpimg\n",
    "from PIL import Image\n",
    "import time"
   ]
  },
  {
   "cell_type": "markdown",
   "metadata": {},
   "source": [
    "# Shape Classification"
   ]
  },
  {
   "cell_type": "markdown",
   "metadata": {},
   "source": [
    "# Data and Preprocessing"
   ]
  },
  {
   "cell_type": "code",
   "execution_count": 47,
   "metadata": {},
   "outputs": [],
   "source": [
    "df = pd.read_csv('./UAFSImageData/data.csv')\n",
    "Xpaths = df.iloc[0:50000,0:1]\n",
    "Y = df.iloc[0:50000,1:2]\n",
    "encoder = OneHotEncoder(sparse=False)\n",
    "Y = encoder.fit_transform(Y)\n",
    "X = []\n",
    "\n",
    "\n",
    "for path in Xpaths['Files']:\n",
    "    img = cv2.imread('UAFSImageData/' + path,0)/255.0\n",
    "    img = cv2.resize(img,(60,40))\n",
    "    X.append(img)\n",
    "X = np.asarray(X)\n",
    "X = X.reshape( len(X), 40, 60, 1)"
   ]
  },
  {
   "cell_type": "code",
   "execution_count": 48,
   "metadata": {},
   "outputs": [],
   "source": [
    "# old random state = 47\n",
    "x_train, x_test, y_train, y_test = train_test_split(X,Y, test_size=0.2)"
   ]
  },
  {
   "cell_type": "markdown",
   "metadata": {},
   "source": [
    "# Model 1"
   ]
  },
  {
   "cell_type": "code",
   "execution_count": 49,
   "metadata": {
    "scrolled": false
   },
   "outputs": [
    {
     "name": "stdout",
     "output_type": "stream",
     "text": [
      "WARNING:tensorflow:Please add `keras.layers.InputLayer` instead of `keras.Input` to Sequential model. `keras.Input` is intended to be used by Functional model.\n",
      "Model: \"sequential_7\"\n",
      "_________________________________________________________________\n",
      "Layer (type)                 Output Shape              Param #   \n",
      "=================================================================\n",
      "conv2d_19 (Conv2D)           (None, 12, 19, 16)        416       \n",
      "_________________________________________________________________\n",
      "max_pooling2d_6 (MaxPooling2 (None, 5, 9, 16)          0         \n",
      "_________________________________________________________________\n",
      "conv2d_20 (Conv2D)           (None, 5, 9, 16)          272       \n",
      "_________________________________________________________________\n",
      "conv2d_21 (Conv2D)           (None, 5, 9, 32)          544       \n",
      "_________________________________________________________________\n",
      "conv2d_22 (Conv2D)           (None, 3, 7, 32)          9248      \n",
      "_________________________________________________________________\n",
      "max_pooling2d_7 (MaxPooling2 (None, 2, 6, 32)          0         \n",
      "_________________________________________________________________\n",
      "flatten_6 (Flatten)          (None, 384)               0         \n",
      "_________________________________________________________________\n",
      "dense_12 (Dense)             (None, 64)                24640     \n",
      "_________________________________________________________________\n",
      "dense_13 (Dense)             (None, 3)                 195       \n",
      "=================================================================\n",
      "Total params: 35,315\n",
      "Trainable params: 35,315\n",
      "Non-trainable params: 0\n",
      "_________________________________________________________________\n"
     ]
    }
   ],
   "source": [
    "model = Sequential()\n",
    "\n",
    "model.add(Input(shape = (40,60,1), dtype=\"float32\"))\n",
    "\n",
    "model.add(Conv2D(16,kernel_size=(5,5), strides=3, use_bias=True, activation='relu'))\n",
    "\n",
    "model.add(MaxPooling2D(pool_size=(3,3), strides=2))\n",
    "\n",
    "model.add(Conv2D(16,kernel_size=(1,1), strides=1, use_bias=True, activation='relu'))\n",
    "model.add(Conv2D(32,kernel_size=(1,1), strides=1, use_bias=True, activation='relu'))\n",
    "model.add(Conv2D(32,kernel_size=(3,3), strides=1, use_bias=True, activation='relu'))\n",
    "\n",
    "model.add(MaxPooling2D(pool_size=(2,2), strides=1))\n",
    "\n",
    "model.add(Flatten())\n",
    "\n",
    "model.add(Dense(64, activation='relu'))\n",
    "\n",
    "model.add(Dense(3, activation='linear'))\n",
    "\n",
    "model.summary()"
   ]
  },
  {
   "cell_type": "code",
   "execution_count": 50,
   "metadata": {},
   "outputs": [],
   "source": [
    "model.compile( optimizer=\"adam\" , loss=\"mse\", metrics=['accuracy'])"
   ]
  },
  {
   "cell_type": "markdown",
   "metadata": {},
   "source": [
    "# Training"
   ]
  },
  {
   "cell_type": "code",
   "execution_count": 51,
   "metadata": {
    "scrolled": false
   },
   "outputs": [
    {
     "name": "stdout",
     "output_type": "stream",
     "text": [
      "Epoch 1/10\n",
      "563/563 [==============================] - 4s 7ms/step - loss: 0.1532 - accuracy: 0.6526 - val_loss: 0.0980 - val_accuracy: 0.8160\n",
      "Epoch 2/10\n",
      "563/563 [==============================] - 3s 6ms/step - loss: 0.0666 - accuracy: 0.8921 - val_loss: 0.0633 - val_accuracy: 0.8867\n",
      "Epoch 3/10\n",
      "563/563 [==============================] - 3s 6ms/step - loss: 0.0486 - accuracy: 0.9251 - val_loss: 0.0413 - val_accuracy: 0.9337\n",
      "Epoch 4/10\n",
      "563/563 [==============================] - 3s 6ms/step - loss: 0.0388 - accuracy: 0.9439 - val_loss: 0.0486 - val_accuracy: 0.9317\n",
      "Epoch 5/10\n",
      "563/563 [==============================] - 3s 6ms/step - loss: 0.0328 - accuracy: 0.9539 - val_loss: 0.0297 - val_accuracy: 0.9663\n",
      "Epoch 6/10\n",
      "563/563 [==============================] - 3s 6ms/step - loss: 0.0309 - accuracy: 0.9575 - val_loss: 0.0250 - val_accuracy: 0.9720\n",
      "Epoch 7/10\n",
      "563/563 [==============================] - 3s 6ms/step - loss: 0.0256 - accuracy: 0.9671 - val_loss: 0.0243 - val_accuracy: 0.9700\n",
      "Epoch 8/10\n",
      "563/563 [==============================] - 3s 6ms/step - loss: 0.0259 - accuracy: 0.9641 - val_loss: 0.0237 - val_accuracy: 0.9643\n",
      "Epoch 9/10\n",
      "563/563 [==============================] - 3s 6ms/step - loss: 0.0225 - accuracy: 0.9704 - val_loss: 0.0145 - val_accuracy: 0.9875\n",
      "Epoch 10/10\n",
      "563/563 [==============================] - 3s 6ms/step - loss: 0.0191 - accuracy: 0.9758 - val_loss: 0.0137 - val_accuracy: 0.9908\n"
     ]
    }
   ],
   "source": [
    "pre = time.time()\n",
    "model.fit(x_train, y_train, epochs=10, batch_size=64, validation_split=0.1)\n",
    "post = time.time()"
   ]
  },
  {
   "cell_type": "markdown",
   "metadata": {},
   "source": [
    "# Evaluation"
   ]
  },
  {
   "cell_type": "code",
   "execution_count": 52,
   "metadata": {},
   "outputs": [
    {
     "name": "stdout",
     "output_type": "stream",
     "text": [
      "313/313 [==============================] - 0s 1ms/step - loss: 0.0136 - accuracy: 0.9862\n"
     ]
    },
    {
     "data": {
      "text/plain": [
       "[0.013551171869039536, 0.9861999750137329]"
      ]
     },
     "execution_count": 52,
     "metadata": {},
     "output_type": "execute_result"
    }
   ],
   "source": [
    "model.evaluate(x_test,y_test)"
   ]
  },
  {
   "cell_type": "code",
   "execution_count": 53,
   "metadata": {
    "scrolled": true
   },
   "outputs": [
    {
     "data": {
      "text/plain": [
       "33.86918044090271"
      ]
     },
     "execution_count": 53,
     "metadata": {},
     "output_type": "execute_result"
    }
   ],
   "source": [
    "post-pre"
   ]
  },
  {
   "cell_type": "markdown",
   "metadata": {},
   "source": [
    "# Prediction"
   ]
  },
  {
   "cell_type": "code",
   "execution_count": 54,
   "metadata": {},
   "outputs": [],
   "source": [
    "labels = ['circle','rectangle','triangle']"
   ]
  },
  {
   "cell_type": "code",
   "execution_count": 56,
   "metadata": {},
   "outputs": [
    {
     "name": "stdout",
     "output_type": "stream",
     "text": [
      "circle\n"
     ]
    },
    {
     "data": {
      "text/plain": [
       "<matplotlib.image.AxesImage at 0x2160cc5fb50>"
      ]
     },
     "execution_count": 56,
     "metadata": {},
     "output_type": "execute_result"
    },
    {
     "data": {
      "image/png": "[encoded data removed]",
      "text/plain": [
       "<Figure size 432x288 with 1 Axes>"
      ]
     },
     "metadata": {
      "needs_background": "light"
     },
     "output_type": "display_data"
    }
   ],
   "source": [
    "img = x_test[1000]\n",
    "input_image = np.array(img)\n",
    "input_image = input_image.reshape(1,40,60,1)\n",
    "prediction = model.predict(input_image)\n",
    "argmax = np.argmax(prediction)\n",
    "print(labels[argmax])\n",
    "plt.imshow(img, cmap=\"gray\")"
   ]
  },
  {
   "cell_type": "code",
   "execution_count": 57,
   "metadata": {},
   "outputs": [
    {
     "name": "stdout",
     "output_type": "stream",
     "text": [
      "triangle\n"
     ]
    },
    {
     "data": {
      "text/plain": [
       "<matplotlib.image.AxesImage at 0x2160ccbf3a0>"
      ]
     },
     "execution_count": 57,
     "metadata": {},
     "output_type": "execute_result"
    },
    {
     "data": {
      "image/png": "[encoded data removed]",
      "text/plain": [
       "<Figure size 432x288 with 1 Axes>"
      ]
     },
     "metadata": {
      "needs_background": "light"
     },
     "output_type": "display_data"
    }
   ],
   "source": [
    "img = x_test[1030]\n",
    "input_image = np.array(img)\n",
    "input_image = input_image.reshape(1,40,60,1)\n",
    "prediction = model.predict(input_image)\n",
    "argmax = np.argmax(prediction)\n",
    "print(labels[argmax])\n",
    "plt.imshow(img, cmap=\"gray\")"
   ]
  },
  {
   "cell_type": "code",
   "execution_count": 58,
   "metadata": {},
   "outputs": [
    {
     "name": "stdout",
     "output_type": "stream",
     "text": [
      "circle\n"
     ]
    },
    {
     "data": {
      "text/plain": [
       "<matplotlib.image.AxesImage at 0x2160cd11ca0>"
      ]
     },
     "execution_count": 58,
     "metadata": {},
     "output_type": "execute_result"
    },
    {
     "data": {
      "image/png": "[encoded data removed]",
      "text/plain": [
       "<Figure size 432x288 with 1 Axes>"
      ]
     },
     "metadata": {
      "needs_background": "light"
     },
     "output_type": "display_data"
    }
   ],
   "source": [
    "img = x_test[180]\n",
    "input_image = np.array(img)\n",
    "input_image = input_image.reshape(1,40,60,1)\n",
    "prediction = model.predict(input_image)\n",
    "argmax = np.argmax(prediction)\n",
    "print(labels[argmax])\n",
    "plt.imshow(img, cmap=\"gray\")"
   ]
  },
  {
   "cell_type": "code",
   "execution_count": 59,
   "metadata": {},
   "outputs": [
    {
     "name": "stdout",
     "output_type": "stream",
     "text": [
      "circle\n"
     ]
    },
    {
     "data": {
      "text/plain": [
       "<matplotlib.image.AxesImage at 0x2160cd70400>"
      ]
     },
     "execution_count": 59,
     "metadata": {},
     "output_type": "execute_result"
    },
    {
     "data": {
      "image/png": "[encoded data removed]",
      "text/plain": [
       "<Figure size 432x288 with 1 Axes>"
      ]
     },
     "metadata": {
      "needs_background": "light"
     },
     "output_type": "display_data"
    }
   ],
   "source": [
    "img = x_test[194]\n",
    "input_image = np.array(img)\n",
    "input_image = input_image.reshape(1,40,60,1)\n",
    "prediction = model.predict(input_image)\n",
    "argmax = np.argmax(prediction)\n",
    "print(labels[argmax])\n",
    "plt.imshow(img, cmap=\"gray\")"
   ]
  },
  {
   "cell_type": "code",
   "execution_count": 60,
   "metadata": {},
   "outputs": [
    {
     "name": "stdout",
     "output_type": "stream",
     "text": [
      "rectangle\n"
     ]
    },
    {
     "data": {
      "text/plain": [
       "<matplotlib.image.AxesImage at 0x2160cdc2bb0>"
      ]
     },
     "execution_count": 60,
     "metadata": {},
     "output_type": "execute_result"
    },
    {
     "data": {
      "image/png": "[encoded data removed]",
      "text/plain": [
       "<Figure size 432x288 with 1 Axes>"
      ]
     },
     "metadata": {
      "needs_background": "light"
     },
     "output_type": "display_data"
    }
   ],
   "source": [
    "img = x_test[10]\n",
    "input_image = np.array(img)\n",
    "input_image = input_image.reshape(1,40,60,1)\n",
    "prediction = model.predict(input_image)\n",
    "argmax = np.argmax(prediction)\n",
    "print(labels[argmax])\n",
    "plt.imshow(img, cmap=\"gray\")"
   ]
  },
  {
   "cell_type": "code",
   "execution_count": 61,
   "metadata": {},
   "outputs": [
    {
     "name": "stdout",
     "output_type": "stream",
     "text": [
      "circle\n"
     ]
    },
    {
     "data": {
      "text/plain": [
       "<matplotlib.image.AxesImage at 0x2160ce21490>"
      ]
     },
     "execution_count": 61,
     "metadata": {},
     "output_type": "execute_result"
    },
    {
     "data": {
      "image/png": "[encoded data removed]",
      "text/plain": [
       "<Figure size 432x288 with 1 Axes>"
      ]
     },
     "metadata": {
      "needs_background": "light"
     },
     "output_type": "display_data"
    }
   ],
   "source": [
    "img = x_test[49]\n",
    "input_image = np.array(img)\n",
    "input_image = input_image.reshape(1,40,60,1)\n",
    "prediction = model.predict(input_image)\n",
    "argmax = np.argmax(prediction)\n",
    "print(labels[argmax])\n",
    "plt.imshow(img, cmap=\"gray\")"
   ]
  },
  {
   "cell_type": "code",
   "execution_count": 62,
   "metadata": {},
   "outputs": [
    {
     "name": "stdout",
     "output_type": "stream",
     "text": [
      "rectangle\n"
     ]
    },
    {
     "data": {
      "text/plain": [
       "<matplotlib.image.AxesImage at 0x2160ce74b50>"
      ]
     },
     "execution_count": 62,
     "metadata": {},
     "output_type": "execute_result"
    },
    {
     "data": {
      "image/png": "[encoded data removed]",
      "text/plain": [
       "<Figure size 432x288 with 1 Axes>"
      ]
     },
     "metadata": {
      "needs_background": "light"
     },
     "output_type": "display_data"
    }
   ],
   "source": [
    "img = x_test[123]\n",
    "input_image = np.array(img)\n",
    "input_image = input_image.reshape(1,40,60,1)\n",
    "prediction = model.predict(input_image)\n",
    "argmax = np.argmax(prediction)\n",
    "print(labels[argmax])\n",
    "plt.imshow(img, cmap=\"gray\")"
   ]
  },
  {
   "cell_type": "markdown",
   "metadata": {},
   "source": [
    "# Center of Shape"
   ]
  },
  {
   "cell_type": "markdown",
   "metadata": {},
   "source": [
    "# Data and Preprocessing"
   ]
  },
  {
   "cell_type": "code",
   "execution_count": 63,
   "metadata": {},
   "outputs": [],
   "source": [
    "df = pd.read_csv('./UAFSImageData/data.csv')\n",
    "Xpaths = df.iloc[0:50000,0:1]\n",
    "tuples = df.iloc[0:50000,2:3]\n",
    "\n",
    "Y = np.empty((50000,2))\n",
    "for i in range(0, len(tuples)):\n",
    "    val = tuples['Centers'][i].split(',')\n",
    "    row = np.empty(2)\n",
    "    row[0] = int(val[0][1:])/600\n",
    "    row[1] = int(val[1][1:-1])/400\n",
    "    Y[i] = row\n",
    "    \n",
    "X = []\n",
    "\n",
    "for path in Xpaths['Files']:\n",
    "    img = cv2.imread('UAFSImageData/' + path,0)/255.0\n",
    "    img = cv2.resize(img,(60,40))\n",
    "    X.append(img)\n",
    "    \n",
    "X = np.asarray(X)\n",
    "X = X.reshape( len(X), 40, 60, 1)"
   ]
  },
  {
   "cell_type": "code",
   "execution_count": 64,
   "metadata": {},
   "outputs": [],
   "source": [
    "x_train, x_test, y_train, y_test = train_test_split(X,Y, test_size=0.2)"
   ]
  },
  {
   "cell_type": "markdown",
   "metadata": {},
   "source": [
    "# Model 2"
   ]
  },
  {
   "cell_type": "code",
   "execution_count": 65,
   "metadata": {
    "scrolled": false
   },
   "outputs": [
    {
     "name": "stdout",
     "output_type": "stream",
     "text": [
      "WARNING:tensorflow:Please add `keras.layers.InputLayer` instead of `keras.Input` to Sequential model. `keras.Input` is intended to be used by Functional model.\n",
      "Model: \"sequential_8\"\n",
      "_________________________________________________________________\n",
      "Layer (type)                 Output Shape              Param #   \n",
      "=================================================================\n",
      "conv2d_23 (Conv2D)           (None, 12, 19, 32)        832       \n",
      "_________________________________________________________________\n",
      "max_pooling2d_8 (MaxPooling2 (None, 5, 9, 32)          0         \n",
      "_________________________________________________________________\n",
      "conv2d_24 (Conv2D)           (None, 5, 9, 32)          1056      \n",
      "_________________________________________________________________\n",
      "conv2d_25 (Conv2D)           (None, 5, 9, 64)          2112      \n",
      "_________________________________________________________________\n",
      "conv2d_26 (Conv2D)           (None, 3, 7, 64)          36928     \n",
      "_________________________________________________________________\n",
      "max_pooling2d_9 (MaxPooling2 (None, 2, 6, 64)          0         \n",
      "_________________________________________________________________\n",
      "flatten_7 (Flatten)          (None, 768)               0         \n",
      "_________________________________________________________________\n",
      "dense_14 (Dense)             (None, 64)                49216     \n",
      "_________________________________________________________________\n",
      "dense_15 (Dense)             (None, 2)                 130       \n",
      "=================================================================\n",
      "Total params: 90,274\n",
      "Trainable params: 90,274\n",
      "Non-trainable params: 0\n",
      "_________________________________________________________________\n"
     ]
    }
   ],
   "source": [
    "# model = Sequential()\n",
    "\n",
    "# model.add(Input(shape = (40,60,1), dtype=\"float32\"))\n",
    "\n",
    "# model.add(Conv2D(16,kernel_size=(5,5), strides=3, use_bias=True, activation='relu'))\n",
    "\n",
    "# model.add(MaxPooling2D(pool_size=(3,3), strides=2))\n",
    "\n",
    "# model.add(Conv2D(16,kernel_size=(1,1), strides=1, use_bias=True, activation='relu'))\n",
    "# model.add(Conv2D(32,kernel_size=(1,1), strides=1, use_bias=True, activation='relu'))\n",
    "# model.add(Conv2D(32,kernel_size=(3,3), strides=1, use_bias=True, activation='relu'))\n",
    "\n",
    "# model.add(MaxPooling2D(pool_size=(3,3), strides=2))\n",
    "\n",
    "# model.add(Flatten())\n",
    "\n",
    "# model.add(Dense(64, activation='relu'))\n",
    "\n",
    "# model.add(Dense(2, activation='linear'))\n",
    "\n",
    "# model.summary()\n",
    "\n",
    "\n",
    "\n",
    "model = Sequential()\n",
    "\n",
    "model.add(Input(shape = (40,60,1), dtype=\"float32\"))\n",
    "\n",
    "model.add(Conv2D(32,kernel_size=(5,5), strides=3, use_bias=True, activation='relu'))\n",
    "\n",
    "model.add(MaxPooling2D(pool_size=(3,3), strides=2))\n",
    "\n",
    "model.add(Conv2D(32,kernel_size=(1,1), strides=1, use_bias=True, activation='relu'))\n",
    "model.add(Conv2D(64,kernel_size=(1,1), strides=1, use_bias=True, activation='relu'))\n",
    "model.add(Conv2D(64,kernel_size=(3,3), strides=1, use_bias=True, activation='relu'))\n",
    "\n",
    "model.add(MaxPooling2D(pool_size=(2,2), strides=1))\n",
    "\n",
    "model.add(Flatten())\n",
    "\n",
    "model.add(Dense(64, activation='relu'))\n",
    "\n",
    "model.add(Dense(2, activation='linear'))\n",
    "\n",
    "model.summary()"
   ]
  },
  {
   "cell_type": "code",
   "execution_count": 66,
   "metadata": {},
   "outputs": [],
   "source": [
    "model.compile( optimizer=\"adam\" , loss=\"mse\", metrics=['accuracy'])"
   ]
  },
  {
   "cell_type": "markdown",
   "metadata": {},
   "source": [
    "# Training"
   ]
  },
  {
   "cell_type": "code",
   "execution_count": 67,
   "metadata": {
    "scrolled": false
   },
   "outputs": [
    {
     "name": "stdout",
     "output_type": "stream",
     "text": [
      "Epoch 1/5\n",
      "1125/1125 [==============================] - 8s 6ms/step - loss: 0.0106 - accuracy: 0.8036 - val_loss: 0.0043 - val_accuracy: 0.8907\n",
      "Epoch 2/5\n",
      "1125/1125 [==============================] - 7s 6ms/step - loss: 0.0030 - accuracy: 0.9186 - val_loss: 0.0024 - val_accuracy: 0.9222\n",
      "Epoch 3/5\n",
      "1125/1125 [==============================] - 7s 6ms/step - loss: 0.0025 - accuracy: 0.9271 - val_loss: 0.0022 - val_accuracy: 0.9400\n",
      "Epoch 4/5\n",
      "1125/1125 [==============================] - 7s 6ms/step - loss: 0.0021 - accuracy: 0.9359 - val_loss: 0.0014 - val_accuracy: 0.9457\n",
      "Epoch 5/5\n",
      "1125/1125 [==============================] - 7s 6ms/step - loss: 0.0021 - accuracy: 0.9351 - val_loss: 0.0013 - val_accuracy: 0.9455\n"
     ]
    }
   ],
   "source": [
    "pre = time.time()\n",
    "\n",
    "model.fit(x_train, y_train, epochs=5, batch_size=32, validation_split=0.1)\n",
    "\n",
    "post = time.time()"
   ]
  },
  {
   "cell_type": "markdown",
   "metadata": {},
   "source": [
    "# Evaluation"
   ]
  },
  {
   "cell_type": "code",
   "execution_count": 68,
   "metadata": {},
   "outputs": [
    {
     "name": "stdout",
     "output_type": "stream",
     "text": [
      "313/313 [==============================] - 1s 3ms/step - loss: 0.0013 - accuracy: 0.9503\n"
     ]
    },
    {
     "data": {
      "text/plain": [
       "[0.0013206336880102754, 0.9502999782562256]"
      ]
     },
     "execution_count": 68,
     "metadata": {},
     "output_type": "execute_result"
    }
   ],
   "source": [
    "model.evaluate(x_test,y_test)"
   ]
  },
  {
   "cell_type": "code",
   "execution_count": 69,
   "metadata": {},
   "outputs": [
    {
     "data": {
      "text/plain": [
       "34.51959991455078"
      ]
     },
     "execution_count": 69,
     "metadata": {},
     "output_type": "execute_result"
    }
   ],
   "source": [
    "post-pre"
   ]
  },
  {
   "cell_type": "markdown",
   "metadata": {},
   "source": [
    "# Prediction"
   ]
  },
  {
   "cell_type": "code",
   "execution_count": 81,
   "metadata": {},
   "outputs": [
    {
     "data": {
      "text/plain": [
       "<matplotlib.image.AxesImage at 0x21686a56310>"
      ]
     },
     "execution_count": 81,
     "metadata": {},
     "output_type": "execute_result"
    },
    {
     "data": {
      "image/png": "[encoded data removed]",
      "text/plain": [
       "<Figure size 432x288 with 1 Axes>"
      ]
     },
     "metadata": {
      "needs_background": "light"
     },
     "output_type": "display_data"
    }
   ],
   "source": [
    "i = 0\n",
    "\n",
    "img1 = x_test[i]\n",
    "img2 = img1.reshape(1,40,60,1)\n",
    "prediction = model.predict(img2)\n",
    "\n",
    "x = prediction[0][0]*60\n",
    "y = prediction[0][1]*40\n",
    "\n",
    "xy = y_test[i][0]*60\n",
    "yy = y_test[i][1]*40\n",
    "\n",
    "\n",
    "plt.plot(xy,yy, marker=\"o\", color=\"green\")\n",
    "plt.plot(x,y, marker=\"o\", color=\"red\")\n",
    "plt.imshow(img1, cmap=\"gray\")\n"
   ]
  },
  {
   "cell_type": "code",
   "execution_count": 82,
   "metadata": {},
   "outputs": [
    {
     "data": {
      "text/plain": [
       "<matplotlib.image.AxesImage at 0x21686966640>"
      ]
     },
     "execution_count": 82,
     "metadata": {},
     "output_type": "execute_result"
    },
    {
     "data": {
      "image/png": "[encoded data removed]",
      "text/plain": [
       "<Figure size 432x288 with 1 Axes>"
      ]
     },
     "metadata": {
      "needs_background": "light"
     },
     "output_type": "display_data"
    }
   ],
   "source": [
    "i = 1\n",
    "\n",
    "img1 = x_test[i]\n",
    "img2 = img1.reshape(1,40,60,1)\n",
    "prediction = model.predict(img2)\n",
    "\n",
    "x = prediction[0][0]*60\n",
    "y = prediction[0][1]*40\n",
    "\n",
    "xy = y_test[i][0]*60\n",
    "yy = y_test[i][1]*40\n",
    "\n",
    "\n",
    "plt.plot(xy,yy, marker=\"o\", color=\"green\")\n",
    "plt.plot(x,y, marker=\"o\", color=\"red\")\n",
    "plt.imshow(img1, cmap=\"gray\")\n"
   ]
  },
  {
   "cell_type": "code",
   "execution_count": 83,
   "metadata": {},
   "outputs": [
    {
     "data": {
      "text/plain": [
       "<matplotlib.image.AxesImage at 0x215dd6eb040>"
      ]
     },
     "execution_count": 83,
     "metadata": {},
     "output_type": "execute_result"
    },
    {
     "data": {
      "image/png": "[encoded data removed]",
      "text/plain": [
       "<Figure size 432x288 with 1 Axes>"
      ]
     },
     "metadata": {
      "needs_background": "light"
     },
     "output_type": "display_data"
    }
   ],
   "source": [
    "i = 2\n",
    "\n",
    "img1 = x_test[i]\n",
    "img2 = img1.reshape(1,40,60,1)\n",
    "prediction = model.predict(img2)\n",
    "\n",
    "x = prediction[0][0]*60\n",
    "y = prediction[0][1]*40\n",
    "\n",
    "xy = y_test[i][0]*60\n",
    "yy = y_test[i][1]*40\n",
    "\n",
    "\n",
    "plt.plot(xy,yy, marker=\"o\", color=\"green\")\n",
    "plt.plot(x,y, marker=\"o\", color=\"red\")\n",
    "plt.imshow(img1, cmap=\"gray\")\n"
   ]
  },
  {
   "cell_type": "code",
   "execution_count": 84,
   "metadata": {},
   "outputs": [
    {
     "data": {
      "text/plain": [
       "<matplotlib.image.AxesImage at 0x21686a5ed00>"
      ]
     },
     "execution_count": 84,
     "metadata": {},
     "output_type": "execute_result"
    },
    {
     "data": {
      "image/png": "[encoded data removed]",
      "text/plain": [
       "<Figure size 432x288 with 1 Axes>"
      ]
     },
     "metadata": {
      "needs_background": "light"
     },
     "output_type": "display_data"
    }
   ],
   "source": [
    "i = 3\n",
    "\n",
    "img1 = x_test[i]\n",
    "img2 = img1.reshape(1,40,60,1)\n",
    "prediction = model.predict(img2)\n",
    "\n",
    "x = prediction[0][0]*60\n",
    "y = prediction[0][1]*40\n",
    "\n",
    "xy = y_test[i][0]*60\n",
    "yy = y_test[i][1]*40\n",
    "\n",
    "\n",
    "plt.plot(xy,yy, marker=\"o\", color=\"green\")\n",
    "plt.plot(x,y, marker=\"o\", color=\"red\")\n",
    "plt.imshow(img1, cmap=\"gray\")\n"
   ]
  },
  {
   "cell_type": "code",
   "execution_count": 85,
   "metadata": {},
   "outputs": [
    {
     "data": {
      "text/plain": [
       "<matplotlib.image.AxesImage at 0x216869deb20>"
      ]
     },
     "execution_count": 85,
     "metadata": {},
     "output_type": "execute_result"
    },
    {
     "data": {
      "image/png": "[encoded data removed]",
      "text/plain": [
       "<Figure size 432x288 with 1 Axes>"
      ]
     },
     "metadata": {
      "needs_background": "light"
     },
     "output_type": "display_data"
    }
   ],
   "source": [
    "i = 4\n",
    "\n",
    "img1 = x_test[i]\n",
    "img2 = img1.reshape(1,40,60,1)\n",
    "prediction = model.predict(img2)\n",
    "\n",
    "x = prediction[0][0]*60\n",
    "y = prediction[0][1]*40\n",
    "\n",
    "xy = y_test[i][0]*60\n",
    "yy = y_test[i][1]*40\n",
    "\n",
    "\n",
    "plt.plot(xy,yy, marker=\"o\", color=\"green\")\n",
    "plt.plot(x,y, marker=\"o\", color=\"red\")\n",
    "plt.imshow(img1, cmap=\"gray\")\n"
   ]
  },
  {
   "cell_type": "code",
   "execution_count": 86,
   "metadata": {},
   "outputs": [
    {
     "data": {
      "text/plain": [
       "<matplotlib.image.AxesImage at 0x215de00db50>"
      ]
     },
     "execution_count": 86,
     "metadata": {},
     "output_type": "execute_result"
    },
    {
     "data": {
      "image/png": "[encoded data removed]",
      "text/plain": [
       "<Figure size 432x288 with 1 Axes>"
      ]
     },
     "metadata": {
      "needs_background": "light"
     },
     "output_type": "display_data"
    }
   ],
   "source": [
    "i = 5\n",
    "\n",
    "img1 = x_test[i]\n",
    "img2 = img1.reshape(1,40,60,1)\n",
    "prediction = model.predict(img2)\n",
    "\n",
    "x = prediction[0][0]*60\n",
    "y = prediction[0][1]*40\n",
    "\n",
    "xy = y_test[i][0]*60\n",
    "yy = y_test[i][1]*40\n",
    "\n",
    "\n",
    "plt.plot(xy,yy, marker=\"o\", color=\"green\")\n",
    "plt.plot(x,y, marker=\"o\", color=\"red\")\n",
    "plt.imshow(img1, cmap=\"gray\")\n"
   ]
  },
  {
   "cell_type": "code",
   "execution_count": 87,
   "metadata": {},
   "outputs": [
    {
     "data": {
      "text/plain": [
       "<matplotlib.image.AxesImage at 0x2160cafdbe0>"
      ]
     },
     "execution_count": 87,
     "metadata": {},
     "output_type": "execute_result"
    },
    {
     "data": {
      "image/png": "[encoded data removed]",
      "text/plain": [
       "<Figure size 432x288 with 1 Axes>"
      ]
     },
     "metadata": {
      "needs_background": "light"
     },
     "output_type": "display_data"
    }
   ],
   "source": [
    "i = 6\n",
    "\n",
    "img1 = x_test[i]\n",
    "img2 = img1.reshape(1,40,60,1)\n",
    "prediction = model.predict(img2)\n",
    "\n",
    "x = prediction[0][0]*60\n",
    "y = prediction[0][1]*40\n",
    "\n",
    "xy = y_test[i][0]*60\n",
    "yy = y_test[i][1]*40\n",
    "\n",
    "\n",
    "plt.plot(xy,yy, marker=\"o\", color=\"green\")\n",
    "plt.plot(x,y, marker=\"o\", color=\"red\")\n",
    "plt.imshow(img1, cmap=\"gray\")\n",
    "\n"
   ]
  },
  {
   "cell_type": "code",
   "execution_count": 88,
   "metadata": {},
   "outputs": [
    {
     "data": {
      "text/plain": [
       "<matplotlib.image.AxesImage at 0x215ddc91c10>"
      ]
     },
     "execution_count": 88,
     "metadata": {},
     "output_type": "execute_result"
    },
    {
     "data": {
      "image/png": "[encoded data removed]",
      "text/plain": [
       "<Figure size 432x288 with 1 Axes>"
      ]
     },
     "metadata": {
      "needs_background": "light"
     },
     "output_type": "display_data"
    }
   ],
   "source": [
    "i = 7\n",
    "\n",
    "img1 = x_test[i]\n",
    "img2 = img1.reshape(1,40,60,1)\n",
    "prediction = model.predict(img2)\n",
    "\n",
    "x = prediction[0][0]*60\n",
    "y = prediction[0][1]*40\n",
    "\n",
    "xy = y_test[i][0]*60\n",
    "yy = y_test[i][1]*40\n",
    "\n",
    "\n",
    "plt.plot(xy,yy, marker=\"o\", color=\"green\")\n",
    "plt.plot(x,y, marker=\"o\", color=\"red\")\n",
    "plt.imshow(img1, cmap=\"gray\")\n",
    "\n"
   ]
  },
  {
   "cell_type": "code",
   "execution_count": 89,
   "metadata": {},
   "outputs": [
    {
     "data": {
      "text/plain": [
       "<matplotlib.image.AxesImage at 0x215de0f0b20>"
      ]
     },
     "execution_count": 89,
     "metadata": {},
     "output_type": "execute_result"
    },
    {
     "data": {
      "image/png": "[encoded data removed]",
      "text/plain": [
       "<Figure size 432x288 with 1 Axes>"
      ]
     },
     "metadata": {
      "needs_background": "light"
     },
     "output_type": "display_data"
    }
   ],
   "source": [
    "i = 8\n",
    "\n",
    "img1 = x_test[i]\n",
    "img2 = img1.reshape(1,40,60,1)\n",
    "prediction = model.predict(img2)\n",
    "\n",
    "x = prediction[0][0]*60\n",
    "y = prediction[0][1]*40\n",
    "\n",
    "xy = y_test[i][0]*60\n",
    "yy = y_test[i][1]*40\n",
    "\n",
    "\n",
    "plt.plot(xy,yy, marker=\"o\", color=\"green\")\n",
    "plt.plot(x,y, marker=\"o\", color=\"red\")\n",
    "plt.imshow(img1, cmap=\"gray\")\n",
    "\n"
   ]
  },
  {
   "cell_type": "code",
   "execution_count": null,
   "metadata": {},
   "outputs": [],
   "source": []
  }
 ],
 "metadata": {
  "kernelspec": {
   "display_name": "Python 3",
   "language": "python",
   "name": "python3"
  },
  "language_info": {
   "codemirror_mode": {
    "name": "ipython",
    "version": 3
   },
   "file_extension": ".py",
   "mimetype": "text/x-python",
   "name": "python",
   "nbconvert_exporter": "python",
   "pygments_lexer": "ipython3",
   "version": "3.8.5"
  }
 },
 "nbformat": 4,
 "nbformat_minor": 4
}
