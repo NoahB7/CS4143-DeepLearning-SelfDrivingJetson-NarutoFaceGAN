{
 "cells": [
  {
   "cell_type": "markdown",
   "metadata": {},
   "source": [
    "# Teleoperation\n",
    "\n",
    "In this example we'll control the Jetbot remotely with a gamepad controller connected to our web browser machine."
   ]
  },
  {
   "cell_type": "markdown",
   "metadata": {},
   "source": [
    "### Create gamepad controller\n",
    "\n",
    "The first thing we want to do is create an instance of the ``Controller`` widget, which we'll use to drive our robot.\n",
    "The ``Controller`` widget takes a ``index`` parameter, which specifies the number of the controller.  This is useful in case you\n",
    "have multiple controllers attached, or some gamepads *appear* as multiple controllers.  To determine the index\n",
    "of the controller you're using,\n",
    "\n",
    "1. Visit [http://html5gamepad.com](http://html5gamepad.com).  \n",
    "2. Press buttons on the gamepad you're using\n",
    "3. Remember the ``index`` of the gamepad that is responding to the button presses\n",
    "\n",
    "Next, we'll create and display our controller using that index."
   ]
  },
  {
   "cell_type": "code",
   "execution_count": 1,
   "metadata": {},
   "outputs": [
    {
     "name": "stdout",
     "output_type": "stream",
     "text": [
      "1.6.0\n"
     ]
    }
   ],
   "source": [
    "import torch\n",
    "print(torch.__version__)"
   ]
  },
  {
   "cell_type": "code",
   "execution_count": 3,
   "metadata": {},
   "outputs": [
    {
     "name": "stdout",
     "output_type": "stream",
     "text": [
      "2.4.0\n"
     ]
    }
   ],
   "source": [
    "import tensorflow\n",
    "print(tensorflow.__version__)"
   ]
  },
  {
   "cell_type": "code",
   "execution_count": 4,
   "metadata": {},
   "outputs": [
    {
     "ename": "SyntaxError",
     "evalue": "invalid syntax (<ipython-input-4-7519ae193c7a>, line 1)",
     "output_type": "error",
     "traceback": [
      "\u001b[0;36m  File \u001b[0;32m\"<ipython-input-4-7519ae193c7a>\"\u001b[0;36m, line \u001b[0;32m1\u001b[0m\n\u001b[0;31m    import tensorflow-gpu\u001b[0m\n\u001b[0m                     ^\u001b[0m\n\u001b[0;31mSyntaxError\u001b[0m\u001b[0;31m:\u001b[0m invalid syntax\n"
     ]
    }
   ],
   "source": [
    "import tensorflowgpu\n",
    "print(tensorflow-gpu.__version__)"
   ]
  },
  {
   "cell_type": "code",
   "execution_count": 1,
   "metadata": {},
   "outputs": [
    {
     "data": {
      "application/vnd.jupyter.widget-view+json": {
       "model_id": "da624ba74f9c4df6a9f468e87f7adf4e",
       "version_major": 2,
       "version_minor": 0
      },
      "text/plain": [
       "Controller()"
      ]
     },
     "metadata": {},
     "output_type": "display_data"
    }
   ],
   "source": [
    "import ipywidgets.widgets as widgets\n",
    "from jetcam.csi_camera import CSICamera\n",
    "import cv2\n",
    "from matplotlib import pyplot  as plt\n",
    "#camera = CSICamera(width=224, height=224)\n",
    "\n",
    "global data\n",
    "data = []\n",
    "\n",
    "global index\n",
    "index = 112\n",
    "controller = widgets.Controller(index=0)  # replace with index of your controller\n",
    "\n",
    "display(controller)"
   ]
  },
  {
   "cell_type": "markdown",
   "metadata": {},
   "source": [
    "Even if the index is correct, you may see the text ``Connect gamepad and press any button``.  That's because the gamepad hasn't\n",
    "registered with this notebook yet.  Press a button and you should see the gamepad widget appear above."
   ]
  },
  {
   "cell_type": "markdown",
   "metadata": {},
   "source": [
    "### Connect gamepad controller to robot motors\n",
    "\n",
    "Now, even though we've connected our gamepad, we haven't yet attached the controls to our robot!  The first, and most simple control\n",
    "we want to attach is the motor control.  We'll connect that to the left and right vertical axes using the ``dlink`` function.  The\n",
    "``dlink`` function, unlike the ``link`` function, allows us to attach a transform between the ``source`` and ``target``.  Because\n",
    "the controller axes are flipped from what we think is intuitive for the motor control, we'll use a small *lambda* function to\n",
    "negate the value.\n",
    "\n",
    "> WARNING: This next cell will move the robot if you touch the gamepad controller axes!"
   ]
  },
  {
   "cell_type": "code",
   "execution_count": 2,
   "metadata": {},
   "outputs": [],
   "source": [
    "from jetracer.nvidia_racecar import NvidiaRacecar\n",
    "import traitlets\n",
    "\n",
    "car = NvidiaRacecar()\n",
    "\n",
    "car.throttle_gain = 0.2"
   ]
  },
  {
   "cell_type": "code",
   "execution_count": 3,
   "metadata": {},
   "outputs": [],
   "source": [
    "car.steering_offset=0.1\n",
    "car.steering = 0"
   ]
  },
  {
   "cell_type": "code",
   "execution_count": 4,
   "metadata": {},
   "outputs": [],
   "source": [
    "import traitlets\n",
    "class someobj(traitlets.HasTraits):\n",
    "    some = traitlets.Float()\n",
    "    @traitlets.validate('some')\n",
    "    def _x(self, proposal):\n",
    "        global index\n",
    "        if proposal['value'] == 1.0:\n",
    "            camera = CSICamera(width=224, height=224)\n",
    "            index+=1\n",
    "            dir1 = '/media/jetson/data/lineImages/image' + str(index)+'.jpg' \n",
    "            row = []\n",
    "            row.append(str(dir1))\n",
    "            row.append(str(car.steering))\n",
    "            row.append(str(car.throttle))\n",
    "            image = camera.read()\n",
    "            camera.cap.release()\n",
    "            cv2.imwrite(dir1,image)\n",
    "            global data\n",
    "            data.append(row)\n",
    "            print(row)\n",
    "#             print(str(dir) +','+ str(car.steering)+','+ str(car.throttle))\n",
    "class someobj2(traitlets.HasTraits):\n",
    "    some = traitlets.Float()\n",
    "    @traitlets.validate('some')\n",
    "    def _x(self, proposal):\n",
    "        print(proposal['value'] )\n",
    "        global index\n",
    "        if proposal['value'] == 1.0:\n",
    "            car.throttle_gain = 0.2\n",
    "        else: \n",
    "            car.throttle_gain = 0\n",
    "        "
   ]
  },
  {
   "cell_type": "code",
   "execution_count": 6,
   "metadata": {},
   "outputs": [],
   "source": [
    "left_link = traitlets.dlink((controller.axes[2], 'value'), (car, 'steering'), transform=lambda x: x)\n",
    "right_link = traitlets.dlink((controller.axes[1], 'value'), (car, 'throttle'), transform=lambda x: -x)\n",
    "\n",
    "someobj1 = someobj()\n",
    "#someobj2 = someobj2()\n",
    "\n",
    "camerabutton = traitlets.dlink((controller.buttons[7],'value'), (someobj1, 'some'))\n",
    "\n",
    "#camerabutton = traitlets.dlink((controller.buttons[2],'value'), (car, 'throttle'), transform=lambda x: if x > 0: x = 0.2 else: x= 0)\n",
    "\n"
   ]
  },
  {
   "cell_type": "code",
   "execution_count": 7,
   "metadata": {},
   "outputs": [
    {
     "name": "stdout",
     "output_type": "stream",
     "text": [
      "                                            img              steering  \\\n",
      "0    /media/jetson/data/lineImages/image113.jpg                   0.0   \n",
      "1    /media/jetson/data/lineImages/image114.jpg                   0.0   \n",
      "2    /media/jetson/data/lineImages/image115.jpg  -0.19589830935001373   \n",
      "3    /media/jetson/data/lineImages/image116.jpg  -0.18558305501937866   \n",
      "4    /media/jetson/data/lineImages/image117.jpg   -0.4536271393299103   \n",
      "5    /media/jetson/data/lineImages/image118.jpg                  -1.0   \n",
      "6    /media/jetson/data/lineImages/image119.jpg   -0.6804406642913818   \n",
      "7    /media/jetson/data/lineImages/image120.jpg                   0.0   \n",
      "8    /media/jetson/data/lineImages/image121.jpg                   0.0   \n",
      "9    /media/jetson/data/lineImages/image122.jpg    0.6185491681098938   \n",
      "10   /media/jetson/data/lineImages/image123.jpg   -0.4536271393299103   \n",
      "11   /media/jetson/data/lineImages/image124.jpg                   1.0   \n",
      "12   /media/jetson/data/lineImages/image125.jpg                  -1.0   \n",
      "13   /media/jetson/data/lineImages/image126.jpg                   0.0   \n",
      "14   /media/jetson/data/lineImages/image127.jpg                   0.0   \n",
      "15   /media/jetson/data/lineImages/image128.jpg   0.18555253744125366   \n",
      "16   /media/jetson/data/lineImages/image129.jpg   -0.1752678006887436   \n",
      "17   /media/jetson/data/lineImages/image130.jpg   0.43299660086631775   \n",
      "18   /media/jetson/data/lineImages/image131.jpg  -0.43302711844444275   \n",
      "19   /media/jetson/data/lineImages/image132.jpg  -0.29898983240127563   \n",
      "20   /media/jetson/data/lineImages/image133.jpg                   0.0   \n",
      "21   /media/jetson/data/lineImages/image134.jpg  -0.40208137035369873   \n",
      "22   /media/jetson/data/lineImages/image135.jpg   -0.3711661100387573   \n",
      "23   /media/jetson/data/lineImages/image136.jpg   0.25772881507873535   \n",
      "24   /media/jetson/data/lineImages/image137.jpg   0.08246101438999176   \n",
      "25   /media/jetson/data/lineImages/image138.jpg                   0.0   \n",
      "26   /media/jetson/data/lineImages/image139.jpg   -0.8144779801368713   \n",
      "27   /media/jetson/data/lineImages/image140.jpg                   1.0   \n",
      "28   /media/jetson/data/lineImages/image141.jpg   -0.4742576479911804   \n",
      "29   /media/jetson/data/lineImages/image142.jpg                   1.0   \n",
      "..                                          ...                   ...   \n",
      "87   /media/jetson/data/lineImages/image200.jpg    0.6494949460029602   \n",
      "88   /media/jetson/data/lineImages/image201.jpg    0.6288644075393677   \n",
      "89   /media/jetson/data/lineImages/image202.jpg   0.42268136143684387   \n",
      "90   /media/jetson/data/lineImages/image203.jpg  -0.39176610112190247   \n",
      "91   /media/jetson/data/lineImages/image204.jpg                   0.0   \n",
      "92   /media/jetson/data/lineImages/image205.jpg   0.26804405450820923   \n",
      "93   /media/jetson/data/lineImages/image206.jpg  -0.12372203916311264   \n",
      "94   /media/jetson/data/lineImages/image207.jpg   0.22678303718566895   \n",
      "95   /media/jetson/data/lineImages/image208.jpg     0.886623740196228   \n",
      "96   /media/jetson/data/lineImages/image209.jpg    0.2783288061618805   \n",
      "97   /media/jetson/data/lineImages/image210.jpg   0.46391186118125916   \n",
      "98   /media/jetson/data/lineImages/image211.jpg                   0.0   \n",
      "99   /media/jetson/data/lineImages/image212.jpg                   0.0   \n",
      "100  /media/jetson/data/lineImages/image213.jpg                   0.0   \n",
      "101  /media/jetson/data/lineImages/image214.jpg                   1.0   \n",
      "102  /media/jetson/data/lineImages/image215.jpg    0.9587695002555847   \n",
      "103  /media/jetson/data/lineImages/image216.jpg    0.7835016846656799   \n",
      "104  /media/jetson/data/lineImages/image217.jpg    0.2783288061618805   \n",
      "105  /media/jetson/data/lineImages/image218.jpg   0.32990509271621704   \n",
      "106  /media/jetson/data/lineImages/image219.jpg    0.5257728695869446   \n",
      "107  /media/jetson/data/lineImages/image220.jpg                   0.0   \n",
      "108  /media/jetson/data/lineImages/image221.jpg                   1.0   \n",
      "109  /media/jetson/data/lineImages/image222.jpg    0.2061830461025238   \n",
      "110  /media/jetson/data/lineImages/image223.jpg    0.8041322231292725   \n",
      "111  /media/jetson/data/lineImages/image224.jpg    0.5773186683654785   \n",
      "112  /media/jetson/data/lineImages/image225.jpg                  -1.0   \n",
      "113  /media/jetson/data/lineImages/image226.jpg    0.4535965919494629   \n",
      "114  /media/jetson/data/lineImages/image227.jpg                   0.0   \n",
      "115  /media/jetson/data/lineImages/image228.jpg                   0.0   \n",
      "116  /media/jetson/data/lineImages/image229.jpg                   0.0   \n",
      "\n",
      "                throttle  \n",
      "0     0.6185796856880188  \n",
      "1     0.7938474416732788  \n",
      "2     0.2062135636806488  \n",
      "3      0.556718647480011  \n",
      "4     0.6288949251174927  \n",
      "5     0.6495254635810852  \n",
      "6      0.670125424861908  \n",
      "7     0.7113864421844482  \n",
      "8     0.6907559633255005  \n",
      "9     0.6392101645469666  \n",
      "10    0.6907559633255005  \n",
      "11    0.6082949042320251  \n",
      "12                  -0.0  \n",
      "13     0.670125424861908  \n",
      "14    0.7010712027549744  \n",
      "15    0.7010712027549744  \n",
      "16    0.7217017412185669  \n",
      "17    0.7629322409629822  \n",
      "18    0.7526169419288635  \n",
      "19    0.7217017412185669  \n",
      "20    0.5876644253730774  \n",
      "21     0.670125424861908  \n",
      "22    0.7835322022438049  \n",
      "23    0.6288949251174927  \n",
      "24    0.6907559633255005  \n",
      "25    0.7217017412185669  \n",
      "26    0.5773491859436035  \n",
      "27                  -0.0  \n",
      "28    0.7113864421844482  \n",
      "29     0.670125424861908  \n",
      "..                   ...  \n",
      "87    0.7423017024993896  \n",
      "88    0.7113864421844482  \n",
      "89    0.7010712027549744  \n",
      "90    0.7835322022438049  \n",
      "91    0.7835322022438049  \n",
      "92    0.7423017024993896  \n",
      "93    0.7010712027549744  \n",
      "94    0.7835322022438049  \n",
      "95    0.7526169419288635  \n",
      "96    0.7423017024993896  \n",
      "97    0.7423017024993896  \n",
      "98    0.7319864630699158  \n",
      "99    0.6907559633255005  \n",
      "100   0.7113864421844482  \n",
      "101   0.8453932404518127  \n",
      "102   0.8557084798812866  \n",
      "103   0.7113864421844482  \n",
      "104    0.670125424861908  \n",
      "105   0.7010712027549744  \n",
      "106   0.7319864630699158  \n",
      "107    0.886654257774353  \n",
      "108                  1.0  \n",
      "109   0.7010712027549744  \n",
      "110   0.7217017412185669  \n",
      "111   0.9072542786598206  \n",
      "112  0.43302711844444275  \n",
      "113   0.5670338869094849  \n",
      "114   0.8763390183448792  \n",
      "115                  1.0  \n",
      "116   0.7423017024993896  \n",
      "\n",
      "[117 rows x 3 columns]\n"
     ]
    }
   ],
   "source": [
    "import pandas as pd\n",
    "labels = ['img','steering','throttle']\n",
    "new_data = pd.DataFrame(columns=labels, data=data)\n",
    "new_data.to_csv('/media/jetson/data/lineImages/data2.csv',index=False)\n",
    "print(new_data)"
   ]
  },
  {
   "cell_type": "markdown",
   "metadata": {},
   "source": [
    "Awesome! Our robot should now respond to our gamepad controller movements.  Now we want to view the live video feed from the camera!"
   ]
  }
 ],
 "metadata": {
  "kernelspec": {
   "display_name": "Python 3",
   "language": "python",
   "name": "python3"
  },
  "language_info": {
   "codemirror_mode": {
    "name": "ipython",
    "version": 3
   },
   "file_extension": ".py",
   "mimetype": "text/x-python",
   "name": "python",
   "nbconvert_exporter": "python",
   "pygments_lexer": "ipython3",
   "version": "3.6.9"
  }
 },
 "nbformat": 4,
 "nbformat_minor": 4
}
